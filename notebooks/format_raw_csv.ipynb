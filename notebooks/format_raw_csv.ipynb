{
 "cells": [
  {
   "cell_type": "code",
   "execution_count": 1,
   "metadata": {},
   "outputs": [],
   "source": [
    "import pandas as pd\n",
    "import numpy as np"
   ]
  },
  {
   "cell_type": "code",
   "execution_count": 2,
   "metadata": {},
   "outputs": [],
   "source": [
    "# input_file = r'C:\\Users\\chris\\OneDrive\\Documents\\Projects\\Money_Manager\\static\\AndroMoney.csv'\n",
    "# output_file = r'C:\\Users\\chris\\OneDrive\\Documents\\Projects\\Money_Manager\\static\\Cleaned_Data.csv'"
   ]
  },
  {
   "cell_type": "code",
   "execution_count": 3,
   "metadata": {},
   "outputs": [],
   "source": [
    "COLUMNS = ['Date', 'Income', 'Expense', 'Amount', 'Category', 'SubCategory', 'Recipient', 'Project', 'Note']\n",
    "cols = {2: 'Date', 3: 'Income(Transfer In)', 4: 'Expense(Transfer Out)', 5: 'Amount', 6: 'Category',\n",
    "7: 'Sub-Category', 8: 'Payee/Payer', 10: 'Project', 11: 'Note'}\n",
    "\n",
    "df = pd.read_csv(input_file, skiprows=range(2, 6), header=1, usecols=cols.keys())[cols.values()]\n",
    "df.columns = COLUMNS"
   ]
  },
  {
   "cell_type": "code",
   "execution_count": 4,
   "metadata": {},
   "outputs": [],
   "source": [
    "# Double the values that fall under 'Transfers'\n",
    "reps = [2 if val == \"Transfer\" else 1 for val in df.Category]\n",
    "df = df.loc[np.repeat(df.index.values, reps)]\n",
    "df.reset_index(inplace=True)\n",
    "df.drop('index', axis=1, inplace=True)\n"
   ]
  },
  {
   "cell_type": "code",
   "execution_count": 5,
   "metadata": {},
   "outputs": [],
   "source": [
    "# Delete alternating values for incomes and expenses of transfers \n",
    "for i, row in enumerate(df.loc[df.Category == 'Transfer'].iterrows(), start=1):\n",
    "    index, _ = row\n",
    "\n",
    "    if i % 2 == 1:\n",
    "        df.loc[index, 'Income'] = np.NaN\n",
    "    else:\n",
    "        df.loc[index, 'Expense'] = np.NaN"
   ]
  },
  {
   "cell_type": "code",
   "execution_count": 6,
   "metadata": {},
   "outputs": [],
   "source": [
    "# Made expenses negative\n",
    "df.loc[df.Expense.notna(), 'Amount'] = df.Amount * -1"
   ]
  },
  {
   "cell_type": "code",
   "execution_count": 7,
   "metadata": {},
   "outputs": [],
   "source": [
    "\n",
    "df.Expense.fillna(df.Income, inplace=True)\n",
    "df.rename({'Expense': 'Account'}, axis=1, inplace=True)\n",
    "df.drop('Income', axis=1, inplace=True)"
   ]
  },
  {
   "cell_type": "code",
   "execution_count": 11,
   "metadata": {},
   "outputs": [],
   "source": [
    "df.to_csv(output_file, index=None)"
   ]
  }
 ],
 "metadata": {
  "kernelspec": {
   "display_name": "Python 3.9.12 ('base')",
   "language": "python",
   "name": "python3"
  },
  "language_info": {
   "codemirror_mode": {
    "name": "ipython",
    "version": 3
   },
   "file_extension": ".py",
   "mimetype": "text/x-python",
   "name": "python",
   "nbconvert_exporter": "python",
   "pygments_lexer": "ipython3",
   "version": "3.9.12 (main, Apr  4 2022, 05:22:27) [MSC v.1916 64 bit (AMD64)]"
  },
  "orig_nbformat": 4,
  "vscode": {
   "interpreter": {
    "hash": "df3f64ca5e16a52414df56f6fd8e5b33b60cd9e67139926ade6a9b44fe3fa7c2"
   }
  }
 },
 "nbformat": 4,
 "nbformat_minor": 2
}
