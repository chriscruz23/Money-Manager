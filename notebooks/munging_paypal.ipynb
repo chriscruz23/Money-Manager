{
 "cells": [
  {
   "cell_type": "code",
   "execution_count": 42,
   "metadata": {},
   "outputs": [],
   "source": [
    "import numpy as np\n",
    "import os\n",
    "import pandas as pd\n",
    "import PyPDF2\n",
    "import re\n",
    "import pprint as pp"
   ]
  },
  {
   "cell_type": "code",
   "execution_count": 4,
   "metadata": {},
   "outputs": [],
   "source": [
    "pdf_path = r\"C:\\Users\\Chris\\OneDrive\\Documents\\Projects\\Bank_Statement_Scrape\\data\\Paypal\""
   ]
  },
  {
   "cell_type": "markdown",
   "metadata": {},
   "source": [
    "##### Rename file names"
   ]
  },
  {
   "cell_type": "code",
   "execution_count": 35,
   "metadata": {},
   "outputs": [],
   "source": [
    "files = os.listdir(pdf_path)"
   ]
  },
  {
   "cell_type": "code",
   "execution_count": 43,
   "metadata": {},
   "outputs": [
    {
     "name": "stdout",
     "output_type": "stream",
     "text": [
      "('  \\n'\n",
      " '  \\n'\n",
      " '  \\n'\n",
      " '  \\n'\n",
      " '  \\n'\n",
      " ' \\n'\n",
      " ' \\n'\n",
      " '  \\n'\n",
      " '  \\n'\n",
      " '  \\n'\n",
      " '*For each transaction in your Account Activity, the Total equals the amount '\n",
      " 'sent or received, plus or minus any Fees.\\n'\n",
      " ' \\n'\n",
      " '  Statement Period PayPal Account ID\\n'\n",
      " 'Oct 1, 2020 - Oct 31,\\n'\n",
      " '2020chriscruz.0523@gmail.com\\n'\n",
      " 'This document contains two statements\\n'\n",
      " 'PayPal account statement  - A view of all PayPal account activity\\n'\n",
      " 'PayPal Balance account statement - A separate view of your PayPal Balance '\n",
      " 'account activity\\n'\n",
      " 'Transactions paid with a PayPal Balance account and another payment method '\n",
      " 'will appear in all affected statements\\n'\n",
      " 'PAYPAL ACCOUNT\\n'\n",
      " 'ACCOUNT ACTIVITY\\n'\n",
      " 'DATE DESCRIPTION CURRENCY AMOUNT FEES TOTAL*\\n'\n",
      " '10/01/2020 Buyer Credit Payment Withdrawal -\\n'\n",
      " 'Transfer To BML\\n'\n",
      " '  PNC - Checking x-2496                               40.00\\n'\n",
      " 'USD\\n'\n",
      " 'ID: 38F63531YC0322817USD -40.00 0.00 -40.00\\n'\n",
      " '10/04/2020 Express Checkout Payment: Crutchfield\\n'\n",
      " '  PNC - Checking x-2496                               53.30\\n'\n",
      " 'USD\\n'\n",
      " 'ID: 7YY832249L892814VUSD -53.30 0.00 -53.30\\n'\n",
      " '10/06/2020 eBay Auction Payment: Anthony Fuentes\\n'\n",
      " 'ID: 3H220022U9744231FUSD 19.99 -0.88 19.11\\n'\n",
      " '10/06/2020 PreApproved Payment Bill User Payment:\\n'\n",
      " 'eBay Inc Shipping\\n'\n",
      " '  PNC - Checking x-2496                               4.46\\n'\n",
      " 'USD\\n'\n",
      " 'ID: 54109816S76301319USD -4.46 0.00 -4.46\\n'\n",
      " '10/07/2020 Payment Refund: G7 Computers\\n'\n",
      " '  PayPal Credit                                              -225.00\\n'\n",
      " 'USD\\n'\n",
      " 'ID: 0EW58415DW624671L\\n'\n",
      " 'Ref ID: 3BC0343471802070LUSD 225.00 0.00 225.00\\n'\n",
      " '10/20/2020 eBay Auction Payment: Elcee Thomas\\n'\n",
      " 'ID: 4YV69103T6964304NUSD 21.25 -0.92 20.33\\n'\n",
      " '10/20/2020 Tax collected by partner\\n'\n",
      " 'ID: 4JL25725VA8416133\\n'\n",
      " 'Ref ID: 4YV69103T6964304NUSD -1.25 0.00 -1.25\\n'\n",
      " '10/20/2020 PreApproved Payment Bill User Payment:\\n'\n",
      " 'eBay Inc Shipping\\n'\n",
      " 'ID: 9N645990EN5890423USD -9.16 0.00 -9.16\\n'\n",
      " '10/28/2020 Express Checkout Payment: eBay\\n'\n",
      " 'ID: 1LJ88316B3108361DUSD -23.99 0.00 -23.99ACCOUNT STATEMENTS\\n'\n",
      " 'Cruz, Christian\\n'\n",
      " 'Page  1')\n"
     ]
    }
   ],
   "source": [
    "with open(pdf_path + \"\\\\\" + files[0], \"rb\") as f:\n",
    "    reader = PyPDF2.PdfFileReader(f)\n",
    "    text = reader.pages[0].extract_text(0)\n",
    "\n",
    "pp.pprint(text)\n",
    "\n",
    "    # found = re.findall(regex, text, flags=re.MULTILINE)\n",
    "    # for x in found:\n",
    "    #     matches.append(year + \" \" + x)"
   ]
  }
 ],
 "metadata": {
  "kernelspec": {
   "display_name": "Python 3.10.8 ('money_manager')",
   "language": "python",
   "name": "python3"
  },
  "language_info": {
   "codemirror_mode": {
    "name": "ipython",
    "version": 3
   },
   "file_extension": ".py",
   "mimetype": "text/x-python",
   "name": "python",
   "nbconvert_exporter": "python",
   "pygments_lexer": "ipython3",
   "version": "3.10.8 | packaged by conda-forge | (main, Nov  4 2022, 13:42:51) [MSC v.1916 64 bit (AMD64)]"
  },
  "orig_nbformat": 4,
  "vscode": {
   "interpreter": {
    "hash": "229a6274ea19802db1aff9c274697990db385952f0aa0af3df042e698aa8112f"
   }
  }
 },
 "nbformat": 4,
 "nbformat_minor": 2
}
