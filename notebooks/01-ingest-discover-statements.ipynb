{
 "cells": [
  {
   "cell_type": "code",
   "execution_count": null,
   "metadata": {},
   "outputs": [],
   "source": [
    "# clean old PDF data and append to master list\n",
    "clean_data = []\n",
    "old_lines = scrape_pdfs(OLD_DISCOVER_PDFS, OLD_DISCOVER_REGEX)\n",
    "\n",
    "for line in old_lines:\n",
    "    split_line = line.split()\n",
    "    split_date = split_line[0:3]\n",
    "    date = ['/'.join([months_dict[split_date[1]], split_date[2], split_date[0]])]\n",
    "    merchant = [' '.join(x for x in split_line[5:-2])]\n",
    "    amount = [split_line[-1:][0].replace(',', '')]\n",
    "    clean_data.append(date + ['Discover'] + amount + merchant)"
   ]
  },
  {
   "cell_type": "code",
   "execution_count": null,
   "metadata": {},
   "outputs": [],
   "source": [
    "# clean new PDF data and append to master list\n",
    "\n",
    "new_lines = [line.replace('\\n', ' ') if '\\n' in line else line for line in new_lines] # replace newline characters\n",
    "new_lines = [line[:line.index('PREVIOUS')] if 'PREVIOUS' in line else line for line in new_lines] # delete PREVIOUS in lines\n",
    "\n",
    "for line in new_lines:\n",
    "    split_line = line.split()\n",
    "    date = ['/'.join([split_line[1].replace('0', ''), split_line[0]]) if split_line[1].startswith('0') else '/'.join([split_line[1], split_line[0]])]\n",
    "    merchant = [' '.join(x for x in split_line[2:-1])]\n",
    "    amount = [split_line[-1].replace('$', '')]\n",
    "    clean_data.append(date + ['Discover'] + amount + merchant)\n"
   ]
  },
  {
   "cell_type": "code",
   "execution_count": null,
   "metadata": {},
   "outputs": [],
   "source": [
    "data_types = {\n",
    "    'Account': object,\n",
    "    'Amount': float,\n",
    "    'Recipient': object,\n",
    "    'Category': object,\n",
    "    'SubCategory': object,\n",
    "    'Project': object,\n",
    "    'Note': object\n",
    "}"
   ]
  },
  {
   "cell_type": "code",
   "execution_count": null,
   "metadata": {},
   "outputs": [],
   "source": [
    "df = pd.DataFrame(clean_data, columns=['Date', 'Account', 'Amount', 'Recipient'])\n",
    "df['Category'] = np.NaN\n",
    "df['SubCategory'] = np.NaN\n",
    "df['Project'] = np.NaN\n",
    "df['Note'] = np.NaN\n",
    "\n",
    "df = df.astype(data_types)\n",
    "df['Amount'].apply(lambda x: x * -1).sum()\n",
    "df.set_index('Date', inplace=True)\n",
    "df.index = pd.to_datetime(df.index, format=\"%m/%d/%Y\", exact=True)\n",
    "df.sort_index(ascending=True, inplace=True)\n",
    "# df.to_excel('discover_transactions.xlsx')"
   ]
  },
  {
   "cell_type": "code",
   "execution_count": null,
   "metadata": {},
   "outputs": [],
   "source": [
    "df.head(20)"
   ]
  }
 ],
 "metadata": {
  "kernelspec": {
   "display_name": "Python 3.9.12 ('base')",
   "language": "python",
   "name": "python3"
  },
  "language_info": {
   "codemirror_mode": {
    "name": "ipython",
    "version": 3
   },
   "file_extension": ".py",
   "mimetype": "text/x-python",
   "name": "python",
   "nbconvert_exporter": "python",
   "pygments_lexer": "ipython3",
   "version": "3.10.8"
  },
  "orig_nbformat": 4,
  "vscode": {
   "interpreter": {
    "hash": "df3f64ca5e16a52414df56f6fd8e5b33b60cd9e67139926ade6a9b44fe3fa7c2"
   }
  }
 },
 "nbformat": 4,
 "nbformat_minor": 2
}
