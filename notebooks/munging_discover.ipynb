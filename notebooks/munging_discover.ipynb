{
 "cells": [
  {
   "cell_type": "code",
   "execution_count": 125,
   "metadata": {},
   "outputs": [],
   "source": [
    "from os import scandir\n",
    "from os.path import join\n",
    "from PyPDF2 import PdfFileReader\n",
    "\n",
    "import pandas as pd\n",
    "import re"
   ]
  },
  {
   "cell_type": "code",
   "execution_count": 126,
   "metadata": {},
   "outputs": [],
   "source": [
    "old_pdfs = r\"C:\\Users\\Chris\\OneDrive\\Documents\\Python_Projects\\Money_Manager\\data\\Discover\\Before_Change\"\n",
    "old_reg = r\"\\w{3} \\d{1,2} \\w{3} \\d{1,2} .* \\$?-?\\d?,?\\d+\\.\\d{2}\"\n",
    "\n",
    "new_pdfs = r\"C:\\Users\\Chris\\OneDrive\\Documents\\Python_Projects\\Money_Manager\\data\\Discover\\After_Change\"\n",
    "new_reg = r\"\\d{1,2}/\\d{2}.*?\\n?.*-?\\$\\d+\\.\\d{2}\""
   ]
  },
  {
   "cell_type": "code",
   "execution_count": 133,
   "metadata": {},
   "outputs": [],
   "source": [
    "def scrape_pdfs(path: str, regex: re.Pattern):\n",
    "    matches = []\n",
    "\n",
    "    with scandir(path) as entries:\n",
    "        for entry in entries:\n",
    "            name = entry.name\n",
    "            year = name[:4]\n",
    "\n",
    "            with open(join(path, name), \"rb\") as f:\n",
    "                reader = PdfFileReader(f)\n",
    "                for page in reader.pages:\n",
    "                    text = page.extract_text(0) + '\\n'\n",
    "\n",
    "                    found = re.findall(regex, text, flags=re.MULTILINE)\n",
    "                    [matches.append(' '.join([year, x])) for x in found]\n",
    "\n",
    "    del year, name\n",
    "    return matches"
   ]
  },
  {
   "cell_type": "code",
   "execution_count": 134,
   "metadata": {},
   "outputs": [
    {
     "data": {
      "text/plain": [
       "['2015 Oct 3 Oct 3 INTERNET PAYMENT - THANK YOU $ -265.00',\n",
       " '2015 Sep 22 Sep 22 FGT*EDCVEGAS 888-512-7469 TX $ 264.49',\n",
       " '2015 Sep 28 Sep 28 EXPEDIA*1117965480211 BELLEVUE WA 1,901.89',\n",
       " '2015 Sep 24 Sep 24 THE HOME DEPOT #0969 FORKED RIVER NJ $ 28.42',\n",
       " '2015 Nov 14 Nov 14 INTERNET PAYMENT - THANK YOU $ -150.00',\n",
       " '2015 Nov 2 Nov 2 REWARD STATEMENT CREDIT $ -23.08',\n",
       " '2015 Dec 19 Dec 19 INTERNET PAYMENT - THANK YOU $ -60.00',\n",
       " '2016 Jan 19 Jan 19 INTERNET PAYMENT - THANK YOU $ -100.00',\n",
       " '2016 Feb 20 Feb 20 INTERNET PAYMENT - THANK YOU $ -150.00',\n",
       " '2016 Mar 15 Mar 15 INTERNET PAYMENT - THANK YOU $ -150.00',\n",
       " '2016 Mar 23 Mar 23 TCKTWEB*STEVEAOKIEDCWE 800-965-4827 CA $ 61.87',\n",
       " '2016 Apr 19 Apr 19 INTERNET PAYMENT - THANK YOU $ -174.38',\n",
       " '2016 Apr 19 Apr 19 REWARD STATEMENT CREDIT $ -0.62',\n",
       " '2016 Apr 7 Apr 7 BUDGET.COM PREPAY 800-621-2844 NJ $ 269.56',\n",
       " '2016 May 20 May 20 INTERNET PAYMENT - THANK YOU $ -172.30',\n",
       " '2016 May 20 May 20 CASHBACK BONUS REDEMPTION PYMT/STMT CRDT $ -2.70',\n",
       " '2016 Jun 15 Jun 15 INTERNET PAYMENT - THANK YOU $ -175.00',\n",
       " '2016 Jun 21 Jun 21 BUDGET CAR AND TRUCK REN LAS VEGAS NV $ 175.25',\n",
       " '2016 Jul 20 Jul 20 INTERNET PAYMENT - THANK YOU $ -173.25',\n",
       " '2016 Jul 20 Jul 20 CASHBACK BONUS REDEMPTION PYMT/STMT CRDT $ -1.75',\n",
       " '2016 Jul 21 Jul 21 EXPEDIA*1141104020646 EXPEDIA.COM WA $ 21.00',\n",
       " '2016 Jul 21 Jul 21 UNITED AIRLINES ARC ELK GROVE TOWIL 292.20']"
      ]
     },
     "execution_count": 134,
     "metadata": {},
     "output_type": "execute_result"
    }
   ],
   "source": [
    "test_dir = r'C:\\Users\\Chris\\OneDrive\\Documents\\Python_Projects\\Money_Manager\\data\\test2'\n",
    "scrape_pdfs(test_dir, old_reg)"
   ]
  },
  {
   "cell_type": "code",
   "execution_count": 114,
   "metadata": {},
   "outputs": [],
   "source": [
    "test_pdfs = r'C:\\Users\\Chris\\OneDrive\\Documents\\Python_Projects\\Money_Manager\\data\\test2'"
   ]
  },
  {
   "cell_type": "code",
   "execution_count": null,
   "metadata": {},
   "outputs": [],
   "source": [
    "# clean old PDF data and append to master list\n",
    "\n",
    "for line in old_lines:\n",
    "    split_line = line.split()\n",
    "    split_date = split_line[0:3]\n",
    "    date = ['/'.join([months_dict[split_date[1]], split_date[2], split_date[0]])]\n",
    "    merchant = [' '.join(x for x in split_line[5:-2])]\n",
    "    amount = [split_line[-1:][0].replace(',', '')]\n",
    "    clean_data.append(date + ['Discover'] + amount + merchant)"
   ]
  },
  {
   "cell_type": "code",
   "execution_count": null,
   "metadata": {},
   "outputs": [],
   "source": [
    "# clean new PDF data and append to master list\n",
    "\n",
    "new_lines = [line.replace('\\n', ' ') if '\\n' in line else line for line in new_lines] # replace newline characters\n",
    "new_lines = [line[:line.index('PREVIOUS')] if 'PREVIOUS' in line else line for line in new_lines] # delete PREVIOUS in lines\n",
    "\n",
    "for line in new_lines:\n",
    "    split_line = line.split()\n",
    "    date = ['/'.join([split_line[1].replace('0', ''), split_line[0]]) if split_line[1].startswith('0') else '/'.join([split_line[1], split_line[0]])]\n",
    "    merchant = [' '.join(x for x in split_line[2:-1])]\n",
    "    amount = [split_line[-1].replace('$', '')]\n",
    "    clean_data.append(date + ['Discover'] + amount + merchant)\n"
   ]
  },
  {
   "cell_type": "code",
   "execution_count": null,
   "metadata": {},
   "outputs": [],
   "source": [
    "data_types = {\n",
    "    'Account': object,\n",
    "    'Amount': float,\n",
    "    'Recipient': object,\n",
    "    'Category': object,\n",
    "    'SubCategory': object,\n",
    "    'Project': object,\n",
    "    'Note': object\n",
    "}"
   ]
  },
  {
   "cell_type": "code",
   "execution_count": null,
   "metadata": {},
   "outputs": [],
   "source": [
    "df = pd.DataFrame(clean_data, columns=['Date', 'Account', 'Amount', 'Recipient'])\n",
    "df['Category'] = np.NaN\n",
    "df['SubCategory'] = np.NaN\n",
    "df['Project'] = np.NaN\n",
    "df['Note'] = np.NaN\n",
    "\n",
    "df = df.astype(data_types)\n",
    "df['Amount'].apply(lambda x: x * -1).sum()\n",
    "df.set_index('Date', inplace=True)\n",
    "df.index = pd.to_datetime(df.index, format=\"%m/%d/%Y\", exact=True)\n",
    "df.sort_index(ascending=True, inplace=True)\n",
    "# df.to_excel('discover_transactions.xlsx')"
   ]
  },
  {
   "cell_type": "code",
   "execution_count": null,
   "metadata": {},
   "outputs": [],
   "source": [
    "df.head(20)"
   ]
  }
 ],
 "metadata": {
  "kernelspec": {
   "display_name": "Python 3.9.12 ('base')",
   "language": "python",
   "name": "python3"
  },
  "language_info": {
   "codemirror_mode": {
    "name": "ipython",
    "version": 3
   },
   "file_extension": ".py",
   "mimetype": "text/x-python",
   "name": "python",
   "nbconvert_exporter": "python",
   "pygments_lexer": "ipython3",
   "version": "3.9.12 (main, Apr  4 2022, 05:22:27) [MSC v.1916 64 bit (AMD64)]"
  },
  "orig_nbformat": 4,
  "vscode": {
   "interpreter": {
    "hash": "df3f64ca5e16a52414df56f6fd8e5b33b60cd9e67139926ade6a9b44fe3fa7c2"
   }
  }
 },
 "nbformat": 4,
 "nbformat_minor": 2
}
