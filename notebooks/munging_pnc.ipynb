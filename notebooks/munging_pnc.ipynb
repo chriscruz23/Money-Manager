{
 "cells": [
  {
   "cell_type": "code",
   "execution_count": 1,
   "metadata": {},
   "outputs": [],
   "source": [
    "import numpy as np\n",
    "import os\n",
    "import pandas as pd\n",
    "import PyPDF2\n",
    "import re\n",
    "import pprint as pp"
   ]
  },
  {
   "cell_type": "code",
   "execution_count": 2,
   "metadata": {},
   "outputs": [],
   "source": [
    "path = r\"C:\\Users\\Chris\\OneDrive\\Documents\\Projects\\Bank_Statement_Scrape\\data\\PNC\"\n",
    "regex = r\"^\\d{2}/\\d{2} \\d*,?\\d*\\.\\d{2} .+\""
   ]
  },
  {
   "cell_type": "code",
   "execution_count": 3,
   "metadata": {},
   "outputs": [],
   "source": [
    "files = os.listdir(path)\n",
    "matches = []\n",
    "\n",
    "for file in files:\n",
    "    year = file.split(\"\\\\\")[-1].split(\"-\")[0]\n",
    "    with open(path + \"\\\\\" + file, \"rb\") as f:\n",
    "        reader = PyPDF2.PdfFileReader(f)\n",
    "        text = ''\n",
    "        for page in reader.pages:\n",
    "            text = text + page.extract_text(0)\n",
    "            text = text + '\\n'\n",
    "\n",
    "    found = re.findall(regex, text, flags=re.MULTILINE)\n",
    "    for x in found:\n",
    "        matches.append('/'.join([year, x]))"
   ]
  },
  {
   "cell_type": "code",
   "execution_count": 4,
   "metadata": {},
   "outputs": [],
   "source": [
    "clean_data = []\n",
    "\n",
    "for line in matches:\n",
    "    date, amount, *recip = line.split()\n",
    "    date = date\n",
    "    amount = amount.replace(',', '')\n",
    "    if amount.startswith('.'):\n",
    "        amount = '0' + amount\n",
    "    recip = ' '.join(recip)\n",
    "    clean_data.append([date] + ['Discover'] + [amount] + [recip])"
   ]
  },
  {
   "cell_type": "code",
   "execution_count": 5,
   "metadata": {},
   "outputs": [],
   "source": [
    "data_types = {\n",
    "    'Account': object,\n",
    "    'Amount': float,\n",
    "    'Recipient': object,\n",
    "    'Category': object,\n",
    "    'SubCategory': object,\n",
    "    'Project': object,\n",
    "    'Note': object\n",
    "}"
   ]
  },
  {
   "cell_type": "code",
   "execution_count": 6,
   "metadata": {},
   "outputs": [],
   "source": [
    "df = pd.DataFrame(clean_data, columns=['Date', 'Account', 'Amount', 'Recipient'])\n",
    "df['Category'] = np.NaN\n",
    "df['SubCategory'] = np.NaN\n",
    "df['Project'] = np.NaN\n",
    "df['Note'] = np.NaN\n",
    "\n",
    "df = df.astype(data_types)\n",
    "df.set_index('Date', inplace=True)\n",
    "df.to_excel('pnc_transactions.xlsx')"
   ]
  }
 ],
 "metadata": {
  "kernelspec": {
   "display_name": "Python 3.10.8 ('money_manager')",
   "language": "python",
   "name": "python3"
  },
  "language_info": {
   "codemirror_mode": {
    "name": "ipython",
    "version": 3
   },
   "file_extension": ".py",
   "mimetype": "text/x-python",
   "name": "python",
   "nbconvert_exporter": "python",
   "pygments_lexer": "ipython3",
   "version": "3.10.8 | packaged by conda-forge | (main, Nov  4 2022, 13:42:51) [MSC v.1916 64 bit (AMD64)]"
  },
  "orig_nbformat": 4,
  "vscode": {
   "interpreter": {
    "hash": "229a6274ea19802db1aff9c274697990db385952f0aa0af3df042e698aa8112f"
   }
  }
 },
 "nbformat": 4,
 "nbformat_minor": 2
}
