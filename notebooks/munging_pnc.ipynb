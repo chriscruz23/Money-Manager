{
 "cells": [
  {
   "cell_type": "code",
   "execution_count": 4,
   "metadata": {},
   "outputs": [
    {
     "ename": "ModuleNotFoundError",
     "evalue": "No module named 'statement_reader'",
     "output_type": "error",
     "traceback": [
      "\u001b[1;31m---------------------------------------------------------------------------\u001b[0m",
      "\u001b[1;31mModuleNotFoundError\u001b[0m                       Traceback (most recent call last)",
      "\u001b[1;32mc:\\Users\\Chris\\OneDrive\\Python_Projects\\Money_Manager\\notebooks\\munging_pnc.ipynb Cell 1\u001b[0m in \u001b[0;36m6\n\u001b[0;32m      <a href='vscode-notebook-cell:/c%3A/Users/Chris/OneDrive/Python_Projects/Money_Manager/notebooks/munging_pnc.ipynb#W0sZmlsZQ%3D%3D?line=3'>4</a>\u001b[0m \u001b[39mimport\u001b[39;00m \u001b[39mPyPDF2\u001b[39;00m\n\u001b[0;32m      <a href='vscode-notebook-cell:/c%3A/Users/Chris/OneDrive/Python_Projects/Money_Manager/notebooks/munging_pnc.ipynb#W0sZmlsZQ%3D%3D?line=4'>5</a>\u001b[0m \u001b[39mfrom\u001b[39;00m \u001b[39mre\u001b[39;00m \u001b[39mimport\u001b[39;00m MULTILINE, \u001b[39mcompile\u001b[39m\n\u001b[1;32m----> <a href='vscode-notebook-cell:/c%3A/Users/Chris/OneDrive/Python_Projects/Money_Manager/notebooks/munging_pnc.ipynb#W0sZmlsZQ%3D%3D?line=5'>6</a>\u001b[0m \u001b[39mfrom\u001b[39;00m \u001b[39mstatement_reader\u001b[39;00m \u001b[39mimport\u001b[39;00m get_all_transactions\n",
      "\u001b[1;31mModuleNotFoundError\u001b[0m: No module named 'statement_reader'"
     ]
    }
   ],
   "source": [
    "import numpy as np\n",
    "from os import scandir\n",
    "import pandas as pd\n",
    "import PyPDF2\n",
    "from re import MULTILINE, compile\n",
    "from statement_reader import get_all_transactions"
   ]
  },
  {
   "cell_type": "code",
   "execution_count": 2,
   "metadata": {},
   "outputs": [
    {
     "ename": "NameError",
     "evalue": "name 'get_all_transactions' is not defined",
     "output_type": "error",
     "traceback": [
      "\u001b[1;31m---------------------------------------------------------------------------\u001b[0m",
      "\u001b[1;31mNameError\u001b[0m                                 Traceback (most recent call last)",
      "\u001b[1;32mc:\\Users\\Chris\\OneDrive\\Python_Projects\\Money_Manager\\notebooks\\munging_pnc.ipynb Cell 2\u001b[0m in \u001b[0;36m3\n\u001b[0;32m      <a href='vscode-notebook-cell:/c%3A/Users/Chris/OneDrive/Python_Projects/Money_Manager/notebooks/munging_pnc.ipynb#W2sZmlsZQ%3D%3D?line=0'>1</a>\u001b[0m PNC_REGEX \u001b[39m=\u001b[39m \u001b[39mcompile\u001b[39m(\u001b[39mr\u001b[39m\u001b[39m\"\u001b[39m\u001b[39m\\\u001b[39m\u001b[39md\u001b[39m\u001b[39m{2}\u001b[39;00m\u001b[39m/\u001b[39m\u001b[39m\\\u001b[39m\u001b[39md\u001b[39m\u001b[39m{2}\u001b[39;00m\u001b[39m \u001b[39m\u001b[39m\\\u001b[39m\u001b[39md*,?\u001b[39m\u001b[39m\\\u001b[39m\u001b[39md*\u001b[39m\u001b[39m\\\u001b[39m\u001b[39m.\u001b[39m\u001b[39m\\\u001b[39m\u001b[39md\u001b[39m\u001b[39m{2}\u001b[39;00m\u001b[39m .*(?=\u001b[39m\u001b[39m\\\u001b[39m\u001b[39mn\u001b[39m\u001b[39m\\\u001b[39m\u001b[39md\u001b[39m\u001b[39m{2}\u001b[39;00m\u001b[39m/\u001b[39m\u001b[39m\\\u001b[39m\u001b[39md\u001b[39m\u001b[39m{2}\u001b[39;00m\u001b[39m|\u001b[39m\u001b[39m\\\u001b[39m\u001b[39mnOnline and Electronic|\u001b[39m\u001b[39m\\\u001b[39m\u001b[39mnBanking/Debit Card|\u001b[39m\u001b[39m\\\u001b[39m\u001b[39mn4Virtual Wallet|\u001b[39m\u001b[39m\\\u001b[39m\u001b[39mnDaily Balance|\u001b[39m\u001b[39m\\\u001b[39m\u001b[39mnOther Deductions)|\u001b[39m\u001b[39m\\\u001b[39m\u001b[39md\u001b[39m\u001b[39m{2}\u001b[39;00m\u001b[39m/\u001b[39m\u001b[39m\\\u001b[39m\u001b[39md\u001b[39m\u001b[39m{2}\u001b[39;00m\u001b[39m \u001b[39m\u001b[39m\\\u001b[39m\u001b[39md*,?\u001b[39m\u001b[39m\\\u001b[39m\u001b[39md*\u001b[39m\u001b[39m\\\u001b[39m\u001b[39m.\u001b[39m\u001b[39m\\\u001b[39m\u001b[39md\u001b[39m\u001b[39m{2}\u001b[39;00m\u001b[39m .*\u001b[39m\u001b[39m\\\u001b[39m\u001b[39mn.*\u001b[39m\u001b[39m\"\u001b[39m, MULTILINE)\n\u001b[0;32m      <a href='vscode-notebook-cell:/c%3A/Users/Chris/OneDrive/Python_Projects/Money_Manager/notebooks/munging_pnc.ipynb#W2sZmlsZQ%3D%3D?line=1'>2</a>\u001b[0m FOLDER_PATH \u001b[39m=\u001b[39m \u001b[39m\"\u001b[39m\u001b[39m..\u001b[39m\u001b[39m\\\u001b[39m\u001b[39mdata\u001b[39m\u001b[39m\\\u001b[39m\u001b[39mPNC\u001b[39m\u001b[39m\"\u001b[39m\n\u001b[1;32m----> <a href='vscode-notebook-cell:/c%3A/Users/Chris/OneDrive/Python_Projects/Money_Manager/notebooks/munging_pnc.ipynb#W2sZmlsZQ%3D%3D?line=2'>3</a>\u001b[0m transactions \u001b[39m=\u001b[39m get_all_transactions(FOLDER_PATH, PNC_REGEX)\n",
      "\u001b[1;31mNameError\u001b[0m: name 'get_all_transactions' is not defined"
     ]
    }
   ],
   "source": [
    "PNC_REGEX = compile(r\"\\d{2}/\\d{2} \\d*,?\\d*\\.\\d{2} .*(?=\\n\\d{2}/\\d{2}|\\nOnline and Electronic|\\nBanking/Debit Card|\\n4Virtual Wallet|\\nDaily Balance|\\nOther Deductions)|\\d{2}/\\d{2} \\d*,?\\d*\\.\\d{2} .*\\n.*\", MULTILINE)\n",
    "FOLDER_PATH = \"..\\data\\PNC\"\n",
    "transactions = get_all_transactions(FOLDER_PATH, PNC_REGEX)"
   ]
  },
  {
   "cell_type": "code",
   "execution_count": null,
   "metadata": {},
   "outputs": [],
   "source": []
  },
  {
   "cell_type": "code",
   "execution_count": 55,
   "metadata": {},
   "outputs": [],
   "source": [
    "clean_data = []\n",
    "for line in raw_data:\n",
    "    clean_data.append(line.replace(\"\\n\", \" \").strip())"
   ]
  },
  {
   "cell_type": "code",
   "execution_count": 69,
   "metadata": {},
   "outputs": [],
   "source": [
    "before_df = []\n",
    "for line in clean_data:\n",
    "    date, amount, *recip = line.split()\n",
    "    amount = amount.replace(',', '')\n",
    "    if amount.startswith('.'):\n",
    "        amount = '0' + amount\n",
    "    recip = ' '.join(recip)\n",
    "    before_df += [[date, 'Checking', amount, recip, \"\", \"\", \"\", \"\"]]"
   ]
  },
  {
   "cell_type": "code",
   "execution_count": 71,
   "metadata": {},
   "outputs": [],
   "source": [
    "df = pd.DataFrame(before_df, columns=['Date', 'Account', 'Amount', 'Recipient', 'Category', 'Sub_Category', 'Project', 'Note'])\n"
   ]
  },
  {
   "cell_type": "code",
   "execution_count": 72,
   "metadata": {},
   "outputs": [
    {
     "data": {
      "text/html": [
       "<div>\n",
       "<style scoped>\n",
       "    .dataframe tbody tr th:only-of-type {\n",
       "        vertical-align: middle;\n",
       "    }\n",
       "\n",
       "    .dataframe tbody tr th {\n",
       "        vertical-align: top;\n",
       "    }\n",
       "\n",
       "    .dataframe thead th {\n",
       "        text-align: right;\n",
       "    }\n",
       "</style>\n",
       "<table border=\"1\" class=\"dataframe\">\n",
       "  <thead>\n",
       "    <tr style=\"text-align: right;\">\n",
       "      <th></th>\n",
       "      <th>Date</th>\n",
       "      <th>Account</th>\n",
       "      <th>Amount</th>\n",
       "      <th>Recipient</th>\n",
       "      <th>Category</th>\n",
       "      <th>Sub_Category</th>\n",
       "      <th>Project</th>\n",
       "      <th>Note</th>\n",
       "    </tr>\n",
       "  </thead>\n",
       "  <tbody>\n",
       "    <tr>\n",
       "      <th>0</th>\n",
       "      <td>03/05</td>\n",
       "      <td>Checking</td>\n",
       "      <td>200.00</td>\n",
       "      <td>Direct Deposit - Online PNC Bank XXXXXX4834</td>\n",
       "      <td></td>\n",
       "      <td></td>\n",
       "      <td></td>\n",
       "      <td></td>\n",
       "    </tr>\n",
       "    <tr>\n",
       "      <th>1</th>\n",
       "      <td>03/06</td>\n",
       "      <td>Checking</td>\n",
       "      <td>264.02</td>\n",
       "      <td>Mobile Deposit Reference No. 072420331</td>\n",
       "      <td></td>\n",
       "      <td></td>\n",
       "      <td></td>\n",
       "      <td></td>\n",
       "    </tr>\n",
       "    <tr>\n",
       "      <th>2</th>\n",
       "      <td>03/18</td>\n",
       "      <td>Checking</td>\n",
       "      <td>919.86</td>\n",
       "      <td>Mobile Deposit Reference No. 077504534</td>\n",
       "      <td></td>\n",
       "      <td></td>\n",
       "      <td></td>\n",
       "      <td></td>\n",
       "    </tr>\n",
       "    <tr>\n",
       "      <th>3</th>\n",
       "      <td>03/25</td>\n",
       "      <td>Checking</td>\n",
       "      <td>394.00</td>\n",
       "      <td>Direct Deposit - Cashout Venmo XXXXXX4841</td>\n",
       "      <td></td>\n",
       "      <td></td>\n",
       "      <td></td>\n",
       "      <td></td>\n",
       "    </tr>\n",
       "    <tr>\n",
       "      <th>4</th>\n",
       "      <td>03/20</td>\n",
       "      <td>Checking</td>\n",
       "      <td>99.98</td>\n",
       "      <td>POS Purchase Burlington Sto Clifton NJ</td>\n",
       "      <td></td>\n",
       "      <td></td>\n",
       "      <td></td>\n",
       "      <td></td>\n",
       "    </tr>\n",
       "    <tr>\n",
       "      <th>...</th>\n",
       "      <td>...</td>\n",
       "      <td>...</td>\n",
       "      <td>...</td>\n",
       "      <td>...</td>\n",
       "      <td>...</td>\n",
       "      <td>...</td>\n",
       "      <td>...</td>\n",
       "      <td>...</td>\n",
       "    </tr>\n",
       "    <tr>\n",
       "      <th>894</th>\n",
       "      <td>10/03</td>\n",
       "      <td>Checking</td>\n",
       "      <td>1564.00</td>\n",
       "      <td>Web Pmt- Payment Venmo 1022642658191</td>\n",
       "      <td></td>\n",
       "      <td></td>\n",
       "      <td></td>\n",
       "      <td></td>\n",
       "    </tr>\n",
       "    <tr>\n",
       "      <th>895</th>\n",
       "      <td>10/06</td>\n",
       "      <td>Checking</td>\n",
       "      <td>3.62</td>\n",
       "      <td>Web Pmt- Inst Xfer Paypal Ebayincship</td>\n",
       "      <td></td>\n",
       "      <td></td>\n",
       "      <td></td>\n",
       "      <td></td>\n",
       "    </tr>\n",
       "    <tr>\n",
       "      <th>896</th>\n",
       "      <td>10/11</td>\n",
       "      <td>Checking</td>\n",
       "      <td>4.16</td>\n",
       "      <td>Web Pmt- Inst Xfer Paypal Ebayincship</td>\n",
       "      <td></td>\n",
       "      <td></td>\n",
       "      <td></td>\n",
       "      <td></td>\n",
       "    </tr>\n",
       "    <tr>\n",
       "      <th>897</th>\n",
       "      <td>10/20</td>\n",
       "      <td>Checking</td>\n",
       "      <td>211.22</td>\n",
       "      <td>Web Pmt- Epay Chase Credit Crd 6269237537</td>\n",
       "      <td></td>\n",
       "      <td></td>\n",
       "      <td></td>\n",
       "      <td></td>\n",
       "    </tr>\n",
       "    <tr>\n",
       "      <th>898</th>\n",
       "      <td>10/20</td>\n",
       "      <td>Checking</td>\n",
       "      <td>320.12</td>\n",
       "      <td>Web Pmt- E-Payment Discover 7573</td>\n",
       "      <td></td>\n",
       "      <td></td>\n",
       "      <td></td>\n",
       "      <td></td>\n",
       "    </tr>\n",
       "  </tbody>\n",
       "</table>\n",
       "<p>899 rows × 8 columns</p>\n",
       "</div>"
      ],
      "text/plain": [
       "      Date   Account   Amount                                    Recipient  \\\n",
       "0    03/05  Checking   200.00  Direct Deposit - Online PNC Bank XXXXXX4834   \n",
       "1    03/06  Checking   264.02       Mobile Deposit Reference No. 072420331   \n",
       "2    03/18  Checking   919.86       Mobile Deposit Reference No. 077504534   \n",
       "3    03/25  Checking   394.00    Direct Deposit - Cashout Venmo XXXXXX4841   \n",
       "4    03/20  Checking    99.98       POS Purchase Burlington Sto Clifton NJ   \n",
       "..     ...       ...      ...                                          ...   \n",
       "894  10/03  Checking  1564.00         Web Pmt- Payment Venmo 1022642658191   \n",
       "895  10/06  Checking     3.62        Web Pmt- Inst Xfer Paypal Ebayincship   \n",
       "896  10/11  Checking     4.16        Web Pmt- Inst Xfer Paypal Ebayincship   \n",
       "897  10/20  Checking   211.22    Web Pmt- Epay Chase Credit Crd 6269237537   \n",
       "898  10/20  Checking   320.12             Web Pmt- E-Payment Discover 7573   \n",
       "\n",
       "    Category Sub_Category Project Note  \n",
       "0                                       \n",
       "1                                       \n",
       "2                                       \n",
       "3                                       \n",
       "4                                       \n",
       "..       ...          ...     ...  ...  \n",
       "894                                     \n",
       "895                                     \n",
       "896                                     \n",
       "897                                     \n",
       "898                                     \n",
       "\n",
       "[899 rows x 8 columns]"
      ]
     },
     "execution_count": 72,
     "metadata": {},
     "output_type": "execute_result"
    }
   ],
   "source": [
    "df"
   ]
  }
 ],
 "metadata": {
  "kernelspec": {
   "display_name": "Python 3.10.8 ('money_manager')",
   "language": "python",
   "name": "python3"
  },
  "language_info": {
   "codemirror_mode": {
    "name": "ipython",
    "version": 3
   },
   "file_extension": ".py",
   "mimetype": "text/x-python",
   "name": "python",
   "nbconvert_exporter": "python",
   "pygments_lexer": "ipython3",
   "version": "3.10.8"
  },
  "orig_nbformat": 4,
  "vscode": {
   "interpreter": {
    "hash": "229a6274ea19802db1aff9c274697990db385952f0aa0af3df042e698aa8112f"
   }
  }
 },
 "nbformat": 4,
 "nbformat_minor": 2
}
