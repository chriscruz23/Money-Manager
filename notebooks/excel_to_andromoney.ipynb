{
 "cells": [
  {
   "cell_type": "code",
   "execution_count": 1,
   "metadata": {},
   "outputs": [],
   "source": [
    "import pandas as pd\n",
    "import csv"
   ]
  },
  {
   "cell_type": "code",
   "execution_count": 2,
   "metadata": {},
   "outputs": [],
   "source": [
    "df = pd.read_excel(io=r\"C:\\Users\\Chris\\OneDrive\\Documents\\Excel\\New_Money.xlsx\", sheet_name=0, engine='openpyxl')"
   ]
  },
  {
   "cell_type": "code",
   "execution_count": 3,
   "metadata": {},
   "outputs": [],
   "source": [
    "df['Date'] = df['Date'].astype(str)\n",
    "df['Date'] = df['Date'].str.replace('-', '')"
   ]
  },
  {
   "cell_type": "code",
   "execution_count": 4,
   "metadata": {},
   "outputs": [],
   "source": [
    "def convert_lines(data: pd.DataFrame) -> pd.DataFrame:\n",
    "    formatted_rows = []\n",
    "    id_num = 1\n",
    "\n",
    "    for row in data.iterrows():\n",
    "\n",
    "        date, expense, amount, cat, subcat, recip, project, note = row[1].values\n",
    "        time = ''\n",
    "        currency = 'USD'\n",
    "        periodic = ''\n",
    "        income = ''\n",
    "        add = False\n",
    "\n",
    "        if subcat == 'Cash Deposit' and amount < 0:\n",
    "            income = 'Checking'\n",
    "            add = True\n",
    "        elif subcat == 'Cash Withdrawal' and amount < 0:\n",
    "            income = 'Cash'\n",
    "            add = True\n",
    "        elif subcat == 'Payment' and amount < 0:\n",
    "            income = recip\n",
    "            recip = ''\n",
    "            add = True\n",
    "        elif cat == 'Initial':\n",
    "            cat = 'SYSTEM'\n",
    "            subcat = 'INIT_AMOUNT'\n",
    "            date = 10100101\n",
    "            income = expense\n",
    "            expense = ''\n",
    "            recip = ''\n",
    "            add = True\n",
    "        elif cat == 'Income':\n",
    "            income = expense\n",
    "            expense = ''\n",
    "            add = True\n",
    "        elif cat != 'Transfer' and amount < 0:\n",
    "            add = True\n",
    "\n",
    "        if add:\n",
    "            formatted_rows.append(\n",
    "                {\n",
    "                    'Id': id_num,\n",
    "                    'Currency': currency,\n",
    "                    'Amount': abs(amount),\n",
    "                    'Category': cat,\n",
    "                    'Sub-Category': subcat,\n",
    "                    'Date': date,\n",
    "                    'Expense(Transfer Out)': expense,\n",
    "                    'Income(Transfer In)': income,\n",
    "                    'Note': note,\n",
    "                    'Periodic': periodic,\n",
    "                    'Project': project,\n",
    "                    'Payee/Payer': recip,\n",
    "                    'uid': id_num,\n",
    "                    'Time': time\n",
    "                }\n",
    "            )\n",
    "            id_num += 1\n",
    "        \n",
    "    return pd.DataFrame.from_records(formatted_rows)\n",
    "        "
   ]
  },
  {
   "cell_type": "code",
   "execution_count": 5,
   "metadata": {},
   "outputs": [],
   "source": [
    "primary = convert_lines(df)"
   ]
  },
  {
   "cell_type": "code",
   "execution_count": 6,
   "metadata": {},
   "outputs": [],
   "source": [
    "# primary.to_excel('to_andro.xlsx', index=False)\n",
    "# primary.to_csv('AndroMoney.csv', index=False)\n",
    "primary.to_csv('AndroMoney.csv', sep=\",\", quotechar='\"', index=False, quoting=csv.QUOTE_ALL)"
   ]
  }
 ],
 "metadata": {
  "kernelspec": {
   "display_name": "Python 3.10.8 ('money_manager')",
   "language": "python",
   "name": "python3"
  },
  "language_info": {
   "codemirror_mode": {
    "name": "ipython",
    "version": 3
   },
   "file_extension": ".py",
   "mimetype": "text/x-python",
   "name": "python",
   "nbconvert_exporter": "python",
   "pygments_lexer": "ipython3",
   "version": "3.10.8"
  },
  "orig_nbformat": 4,
  "vscode": {
   "interpreter": {
    "hash": "229a6274ea19802db1aff9c274697990db385952f0aa0af3df042e698aa8112f"
   }
  }
 },
 "nbformat": 4,
 "nbformat_minor": 2
}
